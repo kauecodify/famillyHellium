{
  "nbformat": 4,
  "nbformat_minor": 0,
  "metadata": {
    "colab": {
      "provenance": []
    },
    "kernelspec": {
      "name": "python3",
      "display_name": "Python 3"
    },
    "language_info": {
      "name": "python"
    }
  },
  "cells": [
    {
      "cell_type": "markdown",
      "source": [
        "Dados da Família Helium\n",
        "\n",
        "##!pip install pandas as matplotlib no terminal python ou cmd"
      ],
      "metadata": {
        "id": "9VdSkb67JMwY"
      }
    },
    {
      "cell_type": "code",
      "execution_count": 1,
      "metadata": {
        "id": "yDLPWj5cIkkn"
      },
      "outputs": [],
      "source": [
        "import pandas as pd\n",
        "import matplotlib.pyplot as plt"
      ]
    },
    {
      "cell_type": "markdown",
      "source": [
        "# convertendo os dados em um DataFrame do pandas"
      ],
      "metadata": {
        "id": "sDLQLwSQJcpV"
      }
    },
    {
      "cell_type": "code",
      "source": [
        "data = [\n",
        "    {\"Data\": \"01/04/2024\", \"Descrição\": \"Salário Helen\", \"Categoria\": \"Renda\", \"Valor (R$)\": 3000.00, \"Tipo\": \"Receita\", \"Fonte dos Gastos\": \"Salário\", \"Status\": \"Paga\"},\n",
        "    {\"Data\": \"05/04/2024\", \"Descrição\": \"Salário Sofia\", \"Categoria\": \"Renda\", \"Valor (R$)\": 2500.00, \"Tipo\": \"Receita\", \"Fonte dos Gastos\": \"Salário\", \"Status\": \"Paga\"},\n",
        "    {\"Data\": \"10/04/2024\", \"Descrição\": \"Pensão de Sofia\", \"Categoria\": \"Renda\", \"Valor (R$)\": 202.19, \"Tipo\": \"Receita\", \"Fonte dos Gastos\": \"Dinheiro\", \"Status\": \"Paga\"},\n",
        "\n",
        "]\n"
      ],
      "metadata": {
        "id": "qUq5woVRIvwE"
      },
      "execution_count": 2,
      "outputs": []
    },
    {
      "cell_type": "markdown",
      "source": [
        "# convertendo os dados em um DataFrame do pandas"
      ],
      "metadata": {
        "id": "JY2pdTyzKP5n"
      }
    },
    {
      "cell_type": "code",
      "source": [
        "df = pd.DataFrame(data)"
      ],
      "metadata": {
        "id": "TZl1O7PCKRW9"
      },
      "execution_count": 5,
      "outputs": []
    },
    {
      "cell_type": "markdown",
      "source": [
        "# convertendo a coluna 'Data' para o tipo datetime"
      ],
      "metadata": {
        "id": "7OZaENkcJjCb"
      }
    },
    {
      "cell_type": "code",
      "source": [
        "df['Data'] = pd.to_datetime(df['Data'], format='%d/%m/%Y')"
      ],
      "metadata": {
        "id": "20pqlHAKJKE0"
      },
      "execution_count": 6,
      "outputs": []
    },
    {
      "cell_type": "markdown",
      "source": [
        "# agrupando os dados por mês"
      ],
      "metadata": {
        "id": "KCtPyG1eJmBA"
      }
    },
    {
      "cell_type": "code",
      "source": [
        "df['Mês'] = df['Data'].dt.to_period('M')"
      ],
      "metadata": {
        "id": "mktuSb9LJteD"
      },
      "execution_count": 7,
      "outputs": []
    },
    {
      "cell_type": "markdown",
      "source": [
        "# calculando as receitas totais por mês"
      ],
      "metadata": {
        "id": "DQWxf2OcJo-V"
      }
    },
    {
      "cell_type": "code",
      "source": [
        "receitas_por_mes = df[df['Tipo'] == 'Receita'].groupby('Mês')['Valor (R$)'].sum()"
      ],
      "metadata": {
        "id": "oglqnFYbJ0E5"
      },
      "execution_count": 14,
      "outputs": []
    },
    {
      "cell_type": "markdown",
      "source": [
        "# calculando os gastos totais por mês"
      ],
      "metadata": {
        "id": "oTXetDAvKfDE"
      }
    },
    {
      "cell_type": "code",
      "source": [
        "gastos_por_mes = df[df['Tipo'] == 'Conta'].groupby('Mês')['Valor (R$)'].sum()"
      ],
      "metadata": {
        "id": "446hwQMHKi3F"
      },
      "execution_count": 8,
      "outputs": []
    },
    {
      "cell_type": "markdown",
      "source": [
        "# calculando o saldo por mês (receitas - gastos)"
      ],
      "metadata": {
        "id": "CfVBLlUGKmhr"
      }
    },
    {
      "cell_type": "code",
      "source": [
        "saldo_por_mes = receitas_por_mes - gastos_por_mes"
      ],
      "metadata": {
        "id": "oXteOJ5PKpsl"
      },
      "execution_count": 15,
      "outputs": []
    },
    {
      "cell_type": "markdown",
      "source": [
        "# gastos por categoria em abril de 2024"
      ],
      "metadata": {
        "id": "3cOLLGn0LBQD"
      }
    },
    {
      "cell_type": "code",
      "source": [
        "gastos_abril_2024 = df[df['Mês'] == '2024-04']\n",
        "gastos_por_categoria = gastos_abril_2024.groupby('Categoria')['Valor (R$)'].sum()"
      ],
      "metadata": {
        "id": "aRvHbjSeLQkf"
      },
      "execution_count": 16,
      "outputs": []
    },
    {
      "cell_type": "markdown",
      "source": [
        "# status dos pagamentos em abril de 2024"
      ],
      "metadata": {
        "id": "wVegk-msLTq4"
      }
    },
    {
      "cell_type": "code",
      "source": [
        "status_pagamentos = gastos_abril_2024.groupby('Status')['Descrição'].apply(list)"
      ],
      "metadata": {
        "id": "dm0__JJ8LVCc"
      },
      "execution_count": 17,
      "outputs": []
    },
    {
      "cell_type": "markdown",
      "source": [
        "# imprimindo as informações"
      ],
      "metadata": {
        "id": "alLriptmLdrx"
      }
    },
    {
      "cell_type": "code",
      "source": [
        "print(\"Receitas Totais por Mês:\")\n",
        "print(receitas_por_mes)\n",
        "print(\"\\nGastos Totais por Mês:\")\n",
        "print(gastos_por_mes)\n",
        "print(\"\\nSaldo por Mês (Receitas - Gastos):\")\n",
        "print(saldo_por_mes)\n",
        "print(\"\\nGastos por Categoria (Abril de 2024):\")\n",
        "print(gastos_por_categoria)\n",
        "print(\"\\nStatus dos Pagamentos (Abril de 2024):\")\n",
        "print(status_pagamentos)"
      ],
      "metadata": {
        "colab": {
          "base_uri": "https://localhost:8080/"
        },
        "id": "QmRN5F5DLe9T",
        "outputId": "790ef547-ea3c-4f0d-af16-4c30ccddb140"
      },
      "execution_count": 18,
      "outputs": [
        {
          "output_type": "stream",
          "name": "stdout",
          "text": [
            "Receitas Totais por Mês:\n",
            "Mês\n",
            "2024-04    5702.19\n",
            "Freq: M, Name: Valor (R$), dtype: float64\n",
            "\n",
            "Gastos Totais por Mês:\n",
            "Series([], Freq: M, Name: Valor (R$), dtype: float64)\n",
            "\n",
            "Saldo por Mês (Receitas - Gastos):\n",
            "Mês\n",
            "2024-04   NaN\n",
            "Freq: M, Name: Valor (R$), dtype: float64\n",
            "\n",
            "Gastos por Categoria (Abril de 2024):\n",
            "Categoria\n",
            "Renda    5702.19\n",
            "Name: Valor (R$), dtype: float64\n",
            "\n",
            "Status dos Pagamentos (Abril de 2024):\n",
            "Status\n",
            "Paga    [Salário Helen, Salário Sofia, Pensão de Sofia]\n",
            "Name: Descrição, dtype: object\n"
          ]
        }
      ]
    },
    {
      "cell_type": "markdown",
      "source": [
        "# plotando os resultados"
      ],
      "metadata": {
        "id": "A6RZcr1GLudE"
      }
    },
    {
      "cell_type": "code",
      "source": [
        "plt.figure(figsize=(10, 6))\n",
        "\n",
        "plt.plot(receitas_por_mes.index.astype(str), receitas_por_mes.values, label='Receitas', marker='o')\n",
        "plt.plot(gastos_por_mes.index.astype(str), gastos_por_mes.values, label='Gastos', marker='o')\n",
        "plt.plot(saldo_por_mes.index.astype(str), saldo_por_mes.values, label='Saldo', marker='o')\n",
        "\n",
        "plt.title('Receitas, Gastos e Saldo por Mês')\n",
        "plt.xlabel('Mês')\n",
        "plt.ylabel('Valor (R$)')\n",
        "plt.xticks(rotation=45)\n",
        "plt.legend()\n",
        "plt.grid(True)\n",
        "\n",
        "plt.tight_layout()\n",
        "plt.show()\n"
      ],
      "metadata": {
        "colab": {
          "base_uri": "https://localhost:8080/",
          "height": 607
        },
        "id": "3yheK-bxLvq7",
        "outputId": "b1aa11a9-c2f5-48fe-fa14-f62e18401524"
      },
      "execution_count": 20,
      "outputs": [
        {
          "output_type": "display_data",
          "data": {
            "text/plain": [
              "<Figure size 1000x600 with 1 Axes>"
            ],
            "image/png": "[encoded data removed]"
          },
          "metadata": {}
        }
      ]
    }
  ]
}